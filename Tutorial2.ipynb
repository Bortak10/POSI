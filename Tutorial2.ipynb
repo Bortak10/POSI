{
  "nbformat": 4,
  "nbformat_minor": 0,
  "metadata": {
    "colab": {
      "provenance": [],
      "toc_visible": true,
      "include_colab_link": true
    },
    "kernelspec": {
      "name": "python3",
      "display_name": "Python 3"
    },
    "language_info": {
      "name": "python"
    }
  },
  "cells": [
    {
      "cell_type": "markdown",
      "metadata": {
        "id": "view-in-github",
        "colab_type": "text"
      },
      "source": [
        "<a href=\"https://colab.research.google.com/github/Bortak10/POSI/blob/main/Tutorial2.ipynb\" target=\"_parent\"><img src=\"https://colab.research.google.com/assets/colab-badge.svg\" alt=\"Open In Colab\"/></a>"
      ]
    },
    {
      "cell_type": "markdown",
      "source": [
        "# Tutorial 2"
      ],
      "metadata": {
        "id": "Z-M--VIdAJZf"
      }
    },
    {
      "cell_type": "markdown",
      "source": [
        "In this tutorial, you will explore and learn how to use key Python libraries such as **NumPy**, **Pandas**, and **Matplotlib**. Additionally, you will learn how to import datasets from files as well as from the web."
      ],
      "metadata": {
        "id": "w0uXdskKAFN9"
      }
    },
    {
      "cell_type": "markdown",
      "source": [
        "## Introduction"
      ],
      "metadata": {
        "id": "ObUSshCKmC6N"
      }
    },
    {
      "cell_type": "markdown",
      "source": [
        "### Importing external library\n",
        "You only need to import library **once** at the beginning of the execution chain."
      ],
      "metadata": {
        "id": "AdoGP3sjmG5r"
      }
    },
    {
      "cell_type": "code",
      "source": [
        "import numpy as np"
      ],
      "metadata": {
        "id": "QCJ3Rbi-l7HV"
      },
      "execution_count": null,
      "outputs": []
    },
    {
      "cell_type": "markdown",
      "source": [
        "### NumPy"
      ],
      "metadata": {
        "id": "oXG-ghfMmK0d"
      }
    },
    {
      "cell_type": "markdown",
      "source": [
        "NumPy is used for working with arrays and performing numerical operations."
      ],
      "metadata": {
        "id": "-B8HTxE4mQ5a"
      }
    },
    {
      "cell_type": "markdown",
      "source": [
        "#### Basic operations"
      ],
      "metadata": {
        "id": "EeidbdliT0v_"
      }
    },
    {
      "cell_type": "code",
      "source": [
        "import numpy as np\n",
        "\n",
        "# python array\n",
        "pyarr = [1, 2, 3, 4, 5]\n",
        "print(pyarr)\n",
        "\n",
        "# numpy array\n",
        "arr = np.array([1, 2, 3, 4, 5])\n",
        "print(arr)\n",
        "\n",
        "# Basic operations\n",
        "print(\"Mean:\", np.mean(arr))\n",
        "print(\"Standard Deviation:\", np.std(arr))\n",
        "print(\"Sum:\", np.sum(arr))"
      ],
      "metadata": {
        "id": "DtGHwiMsmNKD",
        "colab": {
          "base_uri": "https://localhost:8080/"
        },
        "outputId": "09efff92-649d-4e5c-e0be-1c88fabe90b2"
      },
      "execution_count": null,
      "outputs": [
        {
          "output_type": "stream",
          "name": "stdout",
          "text": [
            "[1, 2, 3, 4, 5]\n",
            "[1 2 3 4 5]\n",
            "Mean: 3.0\n",
            "Standard Deviation: 1.4142135623730951\n",
            "Sum: 15\n"
          ]
        }
      ]
    },
    {
      "cell_type": "markdown",
      "source": [
        "#### Vectors and matrices"
      ],
      "metadata": {
        "id": "5aGxgxC9T30C"
      }
    },
    {
      "cell_type": "code",
      "source": [
        "# Creating NumPy arrays (1D and 2D)\n",
        "a = np.array([1, 2, 3])            # vector\n",
        "b = np.array([[1, 2], [3, 4]])     # 2x2 matrix\n",
        "\n",
        "# Mathematical operations\n",
        "c = a + 10             # add 10 to each element\n",
        "d = b * 2              # scalar multiplication\n",
        "e = a * a              # element-wise multiplication\n",
        "f = np.dot(a, a)       # dot product (scalar)\n",
        "\n",
        "# Matrix operations\n",
        "dot = np.dot(b, b)       # matrix multiplication\n",
        "transpose = np.transpose(b)    # matrix transpose\n",
        "inverse = np.linalg.inv([[1, 2], [3, 4]])  # matrix inverse (if invertible)\n",
        "\n",
        "print(\"Matrix b * b:\\n\", dot, \"\\n\")\n",
        "print(\"Transpose of b:\\n\", transpose, \"\\n\")\n",
        "print(\"Matrix inverse of matrix [[1, 2], [3, 4]]:\\n\", inverse, \"\\n\")"
      ],
      "metadata": {
        "colab": {
          "base_uri": "https://localhost:8080/"
        },
        "id": "OE4U62dpSLK_",
        "outputId": "5fa27916-5307-4b0c-f128-a0618a320604"
      },
      "execution_count": null,
      "outputs": [
        {
          "output_type": "stream",
          "name": "stdout",
          "text": [
            "Matrix b * b:\n",
            " [[ 7 10]\n",
            " [15 22]] \n",
            "\n",
            "Transpose of b:\n",
            " [[1 3]\n",
            " [2 4]] \n",
            "\n",
            "Matrix inverse of matrix [[1, 2], [3, 4]]:\n",
            " [[-2.   1. ]\n",
            " [ 1.5 -0.5]] \n",
            "\n"
          ]
        }
      ]
    },
    {
      "cell_type": "markdown",
      "source": [
        "#### Slicing"
      ],
      "metadata": {
        "id": "bRTDj7Eo5IO9"
      }
    },
    {
      "cell_type": "code",
      "source": [
        "# 1d\n",
        "arr = np.arange(1, 10)\n",
        "a = arr[2:4]     # Elements from index 2 to 4\n",
        "b = arr[::2]     # Every second element\n",
        "c = arr[-2:]     # Last 2 elements\n",
        "d = arr[::-2]    # Every second element in reverse order\n",
        "\n",
        "print(\"a) \", a)  # [3 4]\n",
        "print(\"b) \", b)  # [1 3 5 7 9]\n",
        "print(\"c) \", c)  # [8 9]\n",
        "print(\"d) \", d)  # [9 7 5 3 1]\n",
        "\n",
        "print()\n",
        "\n",
        "# 2d\n",
        "arr2d = np.arange(20).reshape(4, 5) # reshape(rows, columns)\n",
        "print(\"Original array:\\n\", arr2d)\n",
        "\n",
        "a2d = arr2d[:3, -3:] # top right corner 3x3\n",
        "b2d = arr2d[2]       # 3rd row\n",
        "\n",
        "print()\n",
        "print(a2d)\n",
        "print(b2d)\n",
        "\n"
      ],
      "metadata": {
        "colab": {
          "base_uri": "https://localhost:8080/"
        },
        "id": "Qsk8SC3a5Jds",
        "outputId": "538e248e-618d-432d-cc4d-bfe3fb635adb"
      },
      "execution_count": null,
      "outputs": [
        {
          "output_type": "stream",
          "name": "stdout",
          "text": [
            "a)  [3 4]\n",
            "b)  [1 3 5 7 9]\n",
            "c)  [8 9]\n",
            "d)  [9 7 5 3 1]\n",
            "\n",
            "Original array:\n",
            " [[ 0  1  2  3  4]\n",
            " [ 5  6  7  8  9]\n",
            " [10 11 12 13 14]\n",
            " [15 16 17 18 19]]\n",
            "\n",
            "[[ 2  3  4]\n",
            " [ 7  8  9]\n",
            " [12 13 14]]\n",
            "[10 11 12 13 14]\n"
          ]
        }
      ]
    },
    {
      "cell_type": "markdown",
      "source": [
        "#### Performance Comparison – For Loop vs Vectorized Operations"
      ],
      "metadata": {
        "id": "VItipObSUIiZ"
      }
    },
    {
      "cell_type": "code",
      "source": [
        "import numpy as np\n",
        "import time\n",
        "\n",
        "n = 1_000_000\n",
        "a = np.arange(n)\n",
        "b = np.arange(n)\n",
        "\n",
        "# Using a for loop\n",
        "start_loop = time.time()\n",
        "c_loop = []\n",
        "for i in range(n):\n",
        "    c_loop.append(a[i] + b[i])\n",
        "end_loop = time.time()\n",
        "\n",
        "# Using vectorized NumPy operation\n",
        "start_vector = time.time()\n",
        "c_vector = a + b\n",
        "end_vector = time.time()\n",
        "\n",
        "print(f\"For loop time: {end_loop - start_loop:.5f} seconds\")\n",
        "print(f\"Vectorized time: {end_vector - start_vector:.5f} seconds\")"
      ],
      "metadata": {
        "colab": {
          "base_uri": "https://localhost:8080/"
        },
        "id": "r7P2o8BzUL2k",
        "outputId": "c68ad64e-a2ec-4b56-9c17-c246d58c331e"
      },
      "execution_count": null,
      "outputs": [
        {
          "output_type": "stream",
          "name": "stdout",
          "text": [
            "For loop time: 0.36233 seconds\n",
            "Vectorized time: 0.00372 seconds\n"
          ]
        }
      ]
    },
    {
      "cell_type": "markdown",
      "source": [
        "### Pandas\n",
        "Pandas is ideal for handling and analyzing data using dataframes (tables)."
      ],
      "metadata": {
        "id": "DGUj_MQ_QbgV"
      }
    },
    {
      "cell_type": "code",
      "source": [
        "import pandas as pd\n",
        "\n",
        "# Creating a simple dataframe\n",
        "data = {\n",
        "    'Name': ['Alice', 'Bob', 'Charlie'],\n",
        "    'Age': [25, 30, 35],\n",
        "    'City': ['New York', 'Paris', 'London']\n",
        "}\n",
        "df = pd.DataFrame(data)\n",
        "\n",
        "print(df)\n",
        "\n",
        "# Exploring the DataFrame\n",
        "print(\"\\n Head:\\n\", df.head())\n",
        "print(\"\\n Describe:\\n\", df.describe(include='all'))"
      ],
      "metadata": {
        "colab": {
          "base_uri": "https://localhost:8080/"
        },
        "id": "48TQ8qNdQceU",
        "outputId": "c683c9e1-ddba-4655-a7ae-2e16cf2bb635"
      },
      "execution_count": null,
      "outputs": [
        {
          "output_type": "stream",
          "name": "stdout",
          "text": [
            "      Name  Age      City\n",
            "0    Alice   25  New York\n",
            "1      Bob   30     Paris\n",
            "2  Charlie   35    London\n",
            "\n",
            " Head:\n",
            "       Name  Age      City\n",
            "0    Alice   25  New York\n",
            "1      Bob   30     Paris\n",
            "2  Charlie   35    London\n",
            "\n",
            " Describe:\n",
            "          Name   Age      City\n",
            "count       3   3.0         3\n",
            "unique      3   NaN         3\n",
            "top     Alice   NaN  New York\n",
            "freq        1   NaN         1\n",
            "mean      NaN  30.0       NaN\n",
            "std       NaN   5.0       NaN\n",
            "min       NaN  25.0       NaN\n",
            "25%       NaN  27.5       NaN\n",
            "50%       NaN  30.0       NaN\n",
            "75%       NaN  32.5       NaN\n",
            "max       NaN  35.0       NaN\n"
          ]
        }
      ]
    },
    {
      "cell_type": "markdown",
      "source": [
        "#### Reading from file\n",
        "\n",
        "The most commonly used function for reading data is `pd.read_csv()` for CSV files.\n",
        "\n",
        "There are also other formats like `read_excel()`, `read_json()`."
      ],
      "metadata": {
        "id": "SfHUTysYLqlq"
      }
    },
    {
      "cell_type": "code",
      "source": [
        "import pandas as pd\n",
        "\n",
        "# Reading a CSV file into a pandas DataFrame\n",
        "df = pd.read_csv('name.csv')\n",
        "\n",
        "# Display the first 5 rows\n",
        "print(df.head())"
      ],
      "metadata": {
        "id": "dTTq-YKnp73j"
      },
      "execution_count": null,
      "outputs": []
    },
    {
      "cell_type": "markdown",
      "source": [
        "Useful parameters\n",
        "\n",
        "`skiprows=1`:\n",
        "- This tells pandas to **skip the first row** when reading the CSV file.\n",
        "- Typically, `skiprows` is used when the first row contains metadata, extra information, or non-tabular data (like headers in a non-standard position or comments).\n",
        "- In this case, the first row will not be included in the DataFrame. For example, if the file contains an introductory row or some description at the top, this parameter ensures that it’s ignored when reading the actual data.\n",
        "\n",
        "`header=None`:\n",
        "- By default, `read_csv()` assumes that the first row contains **column headers** (the names of the columns).\n",
        "- By setting `header=None`, you're telling pandas **not to treat any row as column headers**. Instead, pandas will automatically assign numeric column labels (0, 1, 2, etc.).\n",
        "- This is useful when the CSV file does not have headers or when the header row is not the first row."
      ],
      "metadata": {
        "id": "Mgxwl7yLrYFC"
      }
    },
    {
      "cell_type": "code",
      "source": [
        "df = pd.read_csv(\"height_weight_data.csv\", skiprows = 1, header=None)"
      ],
      "metadata": {
        "id": "Oas7KTxzqaME"
      },
      "execution_count": null,
      "outputs": []
    },
    {
      "cell_type": "markdown",
      "source": [
        "#### Reading files from the web"
      ],
      "metadata": {
        "id": "Sq335VvRtz6K"
      }
    },
    {
      "cell_type": "code",
      "source": [
        "import pandas as pd\n",
        "\n",
        "# URL of the CSV file\n",
        "url = \"https://example.com/path/to/your/file.csv\"\n",
        "\n",
        "# Reading the CSV from the web\n",
        "df = pd.read_csv(url)"
      ],
      "metadata": {
        "id": "cTb1c7eEt2Kp"
      },
      "execution_count": null,
      "outputs": []
    },
    {
      "cell_type": "markdown",
      "source": [
        "### Matplotlib"
      ],
      "metadata": {
        "id": "ltyQAS5MmiZV"
      }
    },
    {
      "cell_type": "markdown",
      "source": [
        "#### Basic graph"
      ],
      "metadata": {
        "id": "Z9DX_KQ4IJyj"
      }
    },
    {
      "cell_type": "code",
      "source": [
        "import matplotlib.pyplot as plt\n",
        "import numpy as np\n",
        "\n",
        "xpoints = np.array([0, 11])\n",
        "ypoints = np.array([0, 128])\n",
        "\n",
        "plt.plot(xpoints, ypoints)\n",
        "plt.show()"
      ],
      "metadata": {
        "colab": {
          "base_uri": "https://localhost:8080/",
          "height": 430
        },
        "id": "9nsJQYK1mi-8",
        "outputId": "105493e6-c500-4b81-ff4c-e9884bb1cd55"
      },
      "execution_count": null,
      "outputs": [
        {
          "output_type": "display_data",
          "data": {
            "text/plain": [
              "<Figure size 640x480 with 1 Axes>"
            ],
            "image/png": "[encoded data removed]"
          },
          "metadata": {}
        }
      ]
    },
    {
      "cell_type": "code",
      "source": [
        "import matplotlib.pyplot as plt\n",
        "import numpy as np\n",
        "\n",
        "data = np.random.random(10)\n",
        "plt.plot(data)\n",
        "plt.show()"
      ],
      "metadata": {
        "colab": {
          "base_uri": "https://localhost:8080/",
          "height": 430
        },
        "id": "YkmNkVDeMP-K",
        "outputId": "04385946-7e8d-4c3c-b91e-1bd1f22ef23e"
      },
      "execution_count": null,
      "outputs": [
        {
          "output_type": "display_data",
          "data": {
            "text/plain": [
              "<Figure size 640x480 with 1 Axes>"
            ],
            "image/png": "[encoded data removed]"
          },
          "metadata": {}
        }
      ]
    },
    {
      "cell_type": "markdown",
      "source": [
        "#### Scatter plot\n",
        "https://en.wikipedia.org/wiki/Scatter_plot"
      ],
      "metadata": {
        "id": "3sdS7uqBIPeQ"
      }
    },
    {
      "cell_type": "code",
      "source": [
        "import matplotlib.pyplot as plt\n",
        "import numpy as np\n",
        "\n",
        "data = [np.random.random(20), np.random.random(20)]\n",
        "plt.scatter(data[0], data[1])\n",
        "plt.show()"
      ],
      "metadata": {
        "colab": {
          "base_uri": "https://localhost:8080/",
          "height": 430
        },
        "id": "8uO3gSxDcY7t",
        "outputId": "53227ed8-25d7-4d10-b4ff-9fe09cbec2ba"
      },
      "execution_count": null,
      "outputs": [
        {
          "output_type": "display_data",
          "data": {
            "text/plain": [
              "<Figure size 640x480 with 1 Axes>"
            ],
            "image/png": "[encoded data removed]"
          },
          "metadata": {}
        }
      ]
    },
    {
      "cell_type": "markdown",
      "source": [
        "#### Pie chart\n",
        "https://en.wikipedia.org/wiki/Pie_chart"
      ],
      "metadata": {
        "id": "wsrcHt0VITyS"
      }
    },
    {
      "cell_type": "code",
      "source": [
        "import matplotlib.pyplot as plt\n",
        "import numpy as np\n",
        "\n",
        "data = np.array([\"apple\", \"banana\", \"apple\", \"pear\", \"banana\", \"orange\", \"banana\", \"apple\", \"orange\", \"apple\", \"apple\", \"apple\"])\n",
        "\n",
        "unique, counts = np.unique(data, return_counts=True)\n",
        "\n",
        "plt.pie(counts, labels=unique, autopct='%1.1f%%', startangle=90)\n",
        "plt.show()"
      ],
      "metadata": {
        "colab": {
          "base_uri": "https://localhost:8080/",
          "height": 406
        },
        "id": "5GUg7lNaRtxR",
        "outputId": "f9ada4f1-daf7-4ddb-a946-5fbea1afc90f"
      },
      "execution_count": null,
      "outputs": [
        {
          "output_type": "display_data",
          "data": {
            "text/plain": [
              "<Figure size 640x480 with 1 Axes>"
            ],
            "image/png": "[encoded data removed]"
          },
          "metadata": {}
        }
      ]
    },
    {
      "cell_type": "markdown",
      "source": [
        "#### Box plot\n",
        "https://en.wikipedia.org/wiki/Box_plot"
      ],
      "metadata": {
        "id": "ylytyzH0IzfY"
      }
    },
    {
      "cell_type": "code",
      "source": [
        "import matplotlib.pyplot as plt\n",
        "import numpy as np\n",
        "\n",
        "data = [12, 30, 31, 35, 37, 40, 32, 33, 34, 41, 38, 28, 45, 31, 36, 58, 69]\n",
        "\n",
        "plt.boxplot(data)\n",
        "plt.show()"
      ],
      "metadata": {
        "colab": {
          "base_uri": "https://localhost:8080/",
          "height": 430
        },
        "id": "jLlvXkaEb8Dd",
        "outputId": "198a8f45-f367-41ea-8e0e-aea9810580f4"
      },
      "execution_count": null,
      "outputs": [
        {
          "output_type": "display_data",
          "data": {
            "text/plain": [
              "<Figure size 640x480 with 1 Axes>"
            ],
            "image/png": "[encoded data removed]"
          },
          "metadata": {}
        }
      ]
    },
    {
      "cell_type": "markdown",
      "source": [
        "#### Histogram\n",
        "https://en.wikipedia.org/wiki/Histogram"
      ],
      "metadata": {
        "id": "g3YUVM8BI8YP"
      }
    },
    {
      "cell_type": "code",
      "source": [
        "import matplotlib.pyplot as plt\n",
        "import numpy as np\n",
        "\n",
        "# Generate random data\n",
        "data = np.random.randn(1000)\n",
        "\n",
        "# Plot histogram\n",
        "plt.hist(data, bins=20, edgecolor='black', alpha=0.5)\n",
        "\n",
        "# Add labels\n",
        "plt.xlabel('Value')\n",
        "plt.ylabel('Frequency')\n",
        "\n",
        "# Show plot\n",
        "plt.show()"
      ],
      "metadata": {
        "colab": {
          "base_uri": "https://localhost:8080/",
          "height": 449
        },
        "id": "GhM2LWW8X_W8",
        "outputId": "ea6c9f94-da85-476a-a85c-ba39aa71933d"
      },
      "execution_count": null,
      "outputs": [
        {
          "output_type": "display_data",
          "data": {
            "text/plain": [
              "<Figure size 640x480 with 1 Axes>"
            ],
            "image/png": "[encoded data removed]"
          },
          "metadata": {}
        }
      ]
    },
    {
      "cell_type": "markdown",
      "source": [
        "## Exercises"
      ],
      "metadata": {
        "id": "16Z784IIVapQ"
      }
    },
    {
      "cell_type": "markdown",
      "source": [
        "#### Exercise 1\n",
        "In this exercise, you will explain the following statistical terms. For each term:\n",
        "\n",
        "1. **Define it** in your own words.\n",
        "2. **Explain how it's calculated** or how it's used.\n",
        "3. **Provide an example** to illustrate the concept.\n",
        "\n",
        "---\n",
        "\n",
        "##### Terms to Explain:\n",
        "\n",
        "1. **Median**\n",
        "   - What is the median? How is it found in a data set?\n",
        "   - Provide an example.\n",
        "   \n",
        "2. **Mean (Average)**\n",
        "   - Define the mean and explain how to calculate it.\n",
        "   - Provide an example.\n",
        "\n",
        "3. **Standard Deviation**\n",
        "   - What does standard deviation measure?\n",
        "   - Briefly explain how to calculate it and provide an example.\n",
        "\n",
        "4. **Quartiles (Q1 and Q3)**\n",
        "   - Define Q1 and Q3. How are they calculated?\n",
        "   - Give an example using a small data set.\n",
        "\n",
        "5. **IQR (Interquartile Range)**\n",
        "   - Define IQR and explain how it’s calculated.\n",
        "   - Provide an example.\n",
        "\n",
        "6. **Variance**\n",
        "   - What is variance, and how is it calculated?\n",
        "   - Explain the relationship between variance and standard deviation.\n",
        "   - Provide an example."
      ],
      "metadata": {
        "id": "0z9yHfGYKt2y"
      }
    },
    {
      "cell_type": "markdown",
      "source": [
        "1. Median is either exact middle value in a set if the set length is an odd number or the average of two most middle numbers in a set when the length is an even number.\n",
        "The set has to be ordered from the smallest value to the biggest value\n",
        "\n",
        "In the set: (1, 2, 5, 7, 8) the median is 5\n",
        "In the set: (1,2,5,6,7,9) the median is (5+6)/2 = 5.5\n",
        "\n",
        "\n",
        "2. Mean is the result of adding all values in a set and dividing the sum by the number of values in a set\n",
        "\n",
        "In the set: (1,4,5,7,8,10) the mean is: (1 + 4 + 5 + 7 + 8 + 10)/6 = 35/6 which equals 5.91\n",
        "\n",
        "\n",
        "3. Standard deviation measures the spread of the data from the mean. It is also a squared root of variance\n",
        "\n",
        "To calculate Standard deviation, first we need to calculate the squared differences of all elements and mean, divided by the number of elements - 1\n",
        "\n",
        "the set: (3,5,6,7,8) has a mean equal: 29/5 = 5,8 so now all the (elements - mean) squared equals 14,8/4 = 3,7 with square root equal = 1,92\n",
        "\n",
        "1,92 is the standard deviation of this set\n",
        "\n",
        "\n",
        "4. Q1 and Q3 or in other words lower and upper quartiles are percentiles that allow to equally split the set into 4 equal parts. Q1 marks the point under which the lowest 25% of data falls, Q3 marks the point where the lowest 75% of data falls. Between them there is Q2, which is the median of the set, splitting a set into 2 smaller sets: from smallest value to Q2 and from Q2 to the largest value. To calculate Q1 and Q3 we can simply calculate the means of these smaller sets\n",
        "\n",
        "In the set: (1,5,6,9,11,13,15,17,18,20,21) the Q2 = 13\n",
        "as the two smaller datasets are odd, we can take the middle numbers: Q1 = 6 and Q3 = 18\n",
        "\n",
        "\n",
        "5. IQR is the difference between the Q3 and Q1, which will represent the middle 50% of the data. Usage of it allows to better represent spread of data, as it is not affected by the outliers\n",
        "\n",
        "Using the previous set (1,5,6,9,11,13,15,17,18,20,21), with Q1 = 6 and Q3 = 18, we simply substract: 18 - 6 = 12, so IQR = 12\n",
        "\n",
        "6. Variance is simply the squared differences of all elements and mean, divided by the number of elements - 1. The square root of the variance is the standard deviation of the set\n",
        "\n",
        "Recalling the example with standard deviation:\n",
        "the set: (3,5,6,7,8) has a mean equal: 29/5 = 5,8 so now all the (elements - mean) squared equals 14,8/4 = 3,7\n",
        "3,7 is the variance of this set"
      ],
      "metadata": {
        "id": "56uyfchvsmcy"
      }
    },
    {
      "cell_type": "markdown",
      "source": [],
      "metadata": {
        "id": "n1B0E7akTDJQ"
      }
    },
    {
      "cell_type": "markdown",
      "source": [
        "#### Exercise 2\n",
        "Generate an array of random 100 numbers.\n",
        "\n",
        "Calculate the following statistics for the array:\n",
        "- Median\n",
        "- Mean\n",
        "- Standard deviation\n",
        "- First quartile (Q1)\n",
        "- Third quartile (Q3)\n",
        "- Interquartile range (IQR)\n",
        "- Variance\n",
        "\n",
        "Print the array and the calculated statistics.\n",
        "\n",
        "Example result:\n",
        "```console\n",
        "[0.17165121 0.61747645 0.39826582 0.4707236  0.61388013 0.2276911\n",
        " 0.31298085 0.20115937 0.10795451 0.22006963 0.40703735 0.02983642\n",
        " 0.308904   0.82789731 0.67563344 0.67735212 0.58701252 0.10168223\n",
        " 0.1964611  0.77288573 0.41698776 0.7372897  0.10721326 0.92445719\n",
        " 0.00173499 0.53950225 0.27424815 0.04274267 0.31071638 0.06689424\n",
        " 0.0166482  0.34950876 0.97116423 0.13551993 0.03801114 0.96580299\n",
        " 0.45665163 0.26293525 0.67950108 0.27331487 0.87291717 0.24241789\n",
        " 0.65478673 0.77976392 0.30852723 0.49931606 0.74704851 0.63121191\n",
        " 0.43296676 0.26194879 0.83004086 0.05800895 0.09099496 0.50455262\n",
        " 0.34092432 0.51825112 0.9072013  0.48224947 0.43095947 0.88140047\n",
        " 0.97092664 0.62284024 0.32432019 0.69784626 0.68389065 0.83843349\n",
        " 0.65483523 0.1089709  0.22401504 0.42183869 0.73129921 0.28488844\n",
        " 0.64106247 0.7949042  0.01754107 0.92714389 0.4125867  0.68234723\n",
        " 0.24529873 0.04389241 0.93576212 0.59933419 0.59723641 0.48393346\n",
        " 0.30273359 0.27042282 0.74436857 0.22199391 0.71667345 0.22140033\n",
        " 0.34149772 0.92076753 0.9442233  0.89750259 0.42759872 0.82726639\n",
        " 0.8555351  0.01961142 0.03418    0.20652359]\n",
        "Median: 0.43196311650405067\n",
        "Mean: 0.46870335005716784\n",
        "Std: 0.2898530747727577\n",
        "Q1: 0.2267720839331883\n",
        "Q3: 0.7025530558853881\n",
        "IQR: 0.4757809719521998\n",
        "Variance: 0.08401480495522184\n",
        "```"
      ],
      "metadata": {
        "id": "UHUhXBGNOO67"
      }
    },
    {
      "cell_type": "code",
      "source": [
        "import numpy as np\n",
        "\n",
        "arr = np.random.randint(1, 1000,size=100)\n",
        "\n",
        "\n",
        "print(arr)\n",
        "print(\"Mean:\", np.mean(arr))\n",
        "print(\"Median\", np.median(arr))\n",
        "print(\"Standard Deviation\", np.std(arr))\n",
        "print(\"Q1\", np.quantile(arr, 0.25))\n",
        "print(\"Q3\", np.quantile(arr, 0.75))\n",
        "print(\"IQR\", np.quantile(arr, 0.75) - np.quantile(arr, 0.25))\n",
        "print(\"Variance\", np.var(arr))\n",
        "\n",
        "\n",
        "\n"
      ],
      "metadata": {
        "id": "fUGEu5ZcBGlf",
        "colab": {
          "base_uri": "https://localhost:8080/"
        },
        "outputId": "086141be-99ed-4e5c-8bbf-f17c125ae3c6"
      },
      "execution_count": null,
      "outputs": [
        {
          "output_type": "stream",
          "name": "stdout",
          "text": [
            "[659 548 442 708 566 148 456 340 692 274 228  47 735 831 399 662 403 425\n",
            " 468 159 454 883 909 685 546 529 624 138 318 195 908 472 445 958 795 796\n",
            " 627 458 226 990  29 111 663 872 340  34  92 106 402 974 818 729 185  49\n",
            "  28  36 993 830 675 789 108 470 837 935 672 729 576 417 351 308 502 601\n",
            " 413 732 811 861 838 655 135  66 286 689 120 339 285 834 190 192 681 136\n",
            " 291 427 968 632 819 358 930 902 124 253]\n",
            "Mean: 503.74\n",
            "Median 471.0\n",
            "Standard Deviation 286.9116456332855\n",
            "Q1 268.75\n",
            "Q3 732.75\n",
            "IQR 464.0\n",
            "Variance 82318.2924\n"
          ]
        }
      ]
    },
    {
      "cell_type": "markdown",
      "source": [
        "#### Exercise 3\n",
        "Using **NumPy** library.\n",
        "\n",
        "Create an array with values from 1 to 100.\n",
        "Then, use this array to create two smaller arrays:\n",
        "one containing the odd values and the other containing the even values.\n",
        "Finally, print both arrays to the console.\n",
        "\n",
        "Expected result:\n",
        "\n",
        "```python\n",
        "Odd:\n",
        "[ 1  3  5  7  9 11 13 15 17 19 21 23 25 27 29 31 33 35 37 39 41 43 45 47\n",
        " 49 51 53 55 57 59 61 63 65 67 69 71 73 75 77 79 81 83 85 87 89 91 93 95\n",
        " 97 99]\n",
        "Even:\n",
        "[ 2  4  6  8 10 12 14 16 18 20 22 24 26 28 30 32 34 36 38 40 42 44 46 48\n",
        " 50 52 54 56 58 60 62 64 66 68 70 72 74 76 78 80 82 84 86 88 90 92 94 96\n",
        " 98]\n",
        " ```"
      ],
      "metadata": {
        "id": "2IQ5hOmZARE0"
      }
    },
    {
      "cell_type": "code",
      "source": [
        "import numpy as np\n",
        "\n",
        "arr = np.arange(1, 100)\n",
        "\n",
        "evenarr = arr[arr % 2 == 0]\n",
        "oddarr = arr[arr % 2 != 0]\n",
        "\n",
        "print(\"Even array:\")\n",
        "print(evenarr)\n",
        "print(\"Odd array:\")\n",
        "print(oddarr)"
      ],
      "metadata": {
        "colab": {
          "base_uri": "https://localhost:8080/"
        },
        "id": "mUancFVnFhLa",
        "outputId": "2a303ef3-6afe-4491-b0f7-fa77ec154590"
      },
      "execution_count": null,
      "outputs": [
        {
          "output_type": "stream",
          "name": "stdout",
          "text": [
            "Even array:\n",
            "[ 2  4  6  8 10 12 14 16 18 20 22 24 26 28 30 32 34 36 38 40 42 44 46 48\n",
            " 50 52 54 56 58 60 62 64 66 68 70 72 74 76 78 80 82 84 86 88 90 92 94 96\n",
            " 98]\n",
            "Odd array:\n",
            "[ 1  3  5  7  9 11 13 15 17 19 21 23 25 27 29 31 33 35 37 39 41 43 45 47\n",
            " 49 51 53 55 57 59 61 63 65 67 69 71 73 75 77 79 81 83 85 87 89 91 93 95\n",
            " 97 99]\n"
          ]
        }
      ]
    },
    {
      "cell_type": "markdown",
      "source": [
        "#### Exercise 4\n",
        "\n",
        "Create a 1D **NumPy** array of numbers from 10 to 19.\n",
        "\n",
        "Slice the array to get:\n",
        " - Elements from index 3 to 7\n",
        " - Every second element\n",
        " - Last 3 elements\n",
        " - All elements in reverse order"
      ],
      "metadata": {
        "id": "_k48-E1jJKGk"
      }
    },
    {
      "cell_type": "code",
      "source": [
        "import numpy as np\n",
        "arr = np.arange(10, 20)\n",
        "print(arr)\n",
        "\n",
        "a = arr[3:7]\n",
        "print(a)\n",
        "\n",
        "b = arr[::2]\n",
        "print(b)\n",
        "\n",
        "c = arr[-3:]\n",
        "print(c)\n",
        "\n",
        "d = arr[::-1]\n",
        "print(d)\n",
        "\n"
      ],
      "metadata": {
        "id": "EBaLh2BZsv1B",
        "colab": {
          "base_uri": "https://localhost:8080/"
        },
        "outputId": "da6b1ea1-3b46-4ae1-dd2a-3c99d352e40e"
      },
      "execution_count": null,
      "outputs": [
        {
          "output_type": "stream",
          "name": "stdout",
          "text": [
            "[10 11 12 13 14 15 16 17 18 19]\n",
            "[13 14 15 16]\n",
            "[10 12 14 16 18]\n",
            "[17 18 19]\n",
            "[19 18 17 16 15 14 13 12 11 10]\n"
          ]
        }
      ]
    },
    {
      "cell_type": "markdown",
      "source": [
        "#### Exercise 5\n",
        "\n",
        "Create a 4x5 array with values from 0 to 19.\n",
        "\n",
        "Extract using slicing:\n",
        " - The second row\n",
        " - The third column\n",
        " - A subarray of the top-left 2x2 corner\n",
        " - A subarray from rows 1 to 3 and columns 2 to 4 (inclusive)"
      ],
      "metadata": {
        "id": "0rei29aaJxZ9"
      }
    },
    {
      "cell_type": "code",
      "source": [
        "arr = np.arange(20).reshape(4,5)\n",
        "print(arr)\n",
        "print()\n",
        "\n",
        "a = arr[1]\n",
        "print(a)\n",
        "print()\n",
        "\n",
        "b = arr[:,2]\n",
        "print(b)\n",
        "print()\n",
        "\n",
        "c = arr[:2, :2]\n",
        "print(c)\n",
        "print()\n",
        "\n",
        "d = arr[0:3, 1:4]\n",
        "print(d)\n"
      ],
      "metadata": {
        "id": "dnA1bjrxswzZ",
        "colab": {
          "base_uri": "https://localhost:8080/"
        },
        "outputId": "90efdf74-0255-4d20-f6f4-12a06b94eab2"
      },
      "execution_count": null,
      "outputs": [
        {
          "output_type": "stream",
          "name": "stdout",
          "text": [
            "[[ 0  1  2  3  4]\n",
            " [ 5  6  7  8  9]\n",
            " [10 11 12 13 14]\n",
            " [15 16 17 18 19]]\n",
            "\n",
            "[5 6 7 8 9]\n",
            "\n",
            "[ 2  7 12 17]\n",
            "\n",
            "[[0 1]\n",
            " [5 6]]\n",
            "\n",
            "[[ 1  2  3]\n",
            " [ 6  7  8]\n",
            " [11 12 13]]\n"
          ]
        }
      ]
    },
    {
      "cell_type": "markdown",
      "source": [
        "#### Exercise 6\n",
        "Write a code that:\n",
        "1. Loads a CSV file `height_weight_data.csv` containing height and weight data.\n",
        "2. Skips the first row and assumes there is no header.\n",
        "3. Extracts the height column.\n",
        "4. Calculates and prints the following statistics for the height data:\n",
        "    - Mean\n",
        "    - Median\n",
        "    - Minimum and maximum\n",
        "    - First (Q1) and third (Q3) quartiles\n",
        "    - Interquartile range (IQR)\n",
        "5. Creates and displays a box plot of the height data.\n",
        "\n",
        "Use the **pandas** and **matplotlib** libraries in your code."
      ],
      "metadata": {
        "id": "yls5Sgvig6sh"
      }
    },
    {
      "cell_type": "code",
      "source": [
        "import pandas as pd\n",
        "import matplotlib.pyplot as plt\n",
        "\n",
        "from google.colab import files\n",
        "files.upload()\n",
        "\n",
        "df = pd.read_csv('height_weight_data.csv', skiprows = 1, header=None)\n",
        "\n",
        "print(df[1])\n",
        "print(\"Mean:\",df[1].mean())\n",
        "print(\"Median:\", df[1].median())\n",
        "print(\"Max:\", df[1].max())\n",
        "print(\"Min:\", df[1].min())\n",
        "print(\"Q1\", df[1].quantile(0.25))\n",
        "print(\"Q3\", df[1].quantile(0.75))\n",
        "print(\"IQR\", df[1].quantile(0.75) - df[1].quantile(0.25))\n",
        "\n",
        "plt.boxplot(df[1])\n",
        "plt.show()\n",
        "\n"
      ],
      "metadata": {
        "id": "s2MSoBEmdKVk",
        "colab": {
          "base_uri": "https://localhost:8080/",
          "height": 826
        },
        "outputId": "1677a4e9-d298-4ee7-b2ed-88deceb53543"
      },
      "execution_count": 174,
      "outputs": [
        {
          "output_type": "display_data",
          "data": {
            "text/plain": [
              "<IPython.core.display.HTML object>"
            ],
            "text/html": [
              "\n",
              "     <input type=\"file\" id=\"files-4e59c92a-575f-4dd5-a4cc-5dc1af101c2b\" name=\"files[]\" multiple disabled\n",
              "        style=\"border:none\" />\n",
              "     <output id=\"result-4e59c92a-575f-4dd5-a4cc-5dc1af101c2b\">\n",
              "      Upload widget is only available when the cell has been executed in the\n",
              "      current browser session. Please rerun this cell to enable.\n",
              "      </output>\n",
              "      <script>// Copyright 2017 Google LLC\n",
              "//\n",
              "// Licensed under the Apache License, Version 2.0 (the \"License\");\n",
              "// you may not use this file except in compliance with the License.\n",
              "// You may obtain a copy of the License at\n",
              "//\n",
              "//      http://www.apache.org/licenses/LICENSE-2.0\n",
              "//\n",
              "// Unless required by applicable law or agreed to in writing, software\n",
              "// distributed under the License is distributed on an \"AS IS\" BASIS,\n",
              "// WITHOUT WARRANTIES OR CONDITIONS OF ANY KIND, either express or implied.\n",
              "// See the License for the specific language governing permissions and\n",
              "// limitations under the License.\n",
              "\n",
              "/**\n",
              " * @fileoverview Helpers for google.colab Python module.\n",
              " */\n",
              "(function(scope) {\n",
              "function span(text, styleAttributes = {}) {\n",
              "  const element = document.createElement('span');\n",
              "  element.textContent = text;\n",
              "  for (const key of Object.keys(styleAttributes)) {\n",
              "    element.style[key] = styleAttributes[key];\n",
              "  }\n",
              "  return element;\n",
              "}\n",
              "\n",
              "// Max number of bytes which will be uploaded at a time.\n",
              "const MAX_PAYLOAD_SIZE = 100 * 1024;\n",
              "\n",
              "function _uploadFiles(inputId, outputId) {\n",
              "  const steps = uploadFilesStep(inputId, outputId);\n",
              "  const outputElement = document.getElementById(outputId);\n",
              "  // Cache steps on the outputElement to make it available for the next call\n",
              "  // to uploadFilesContinue from Python.\n",
              "  outputElement.steps = steps;\n",
              "\n",
              "  return _uploadFilesContinue(outputId);\n",
              "}\n",
              "\n",
              "// This is roughly an async generator (not supported in the browser yet),\n",
              "// where there are multiple asynchronous steps and the Python side is going\n",
              "// to poll for completion of each step.\n",
              "// This uses a Promise to block the python side on completion of each step,\n",
              "// then passes the result of the previous step as the input to the next step.\n",
              "function _uploadFilesContinue(outputId) {\n",
              "  const outputElement = document.getElementById(outputId);\n",
              "  const steps = outputElement.steps;\n",
              "\n",
              "  const next = steps.next(outputElement.lastPromiseValue);\n",
              "  return Promise.resolve(next.value.promise).then((value) => {\n",
              "    // Cache the last promise value to make it available to the next\n",
              "    // step of the generator.\n",
              "    outputElement.lastPromiseValue = value;\n",
              "    return next.value.response;\n",
              "  });\n",
              "}\n",
              "\n",
              "/**\n",
              " * Generator function which is called between each async step of the upload\n",
              " * process.\n",
              " * @param {string} inputId Element ID of the input file picker element.\n",
              " * @param {string} outputId Element ID of the output display.\n",
              " * @return {!Iterable<!Object>} Iterable of next steps.\n",
              " */\n",
              "function* uploadFilesStep(inputId, outputId) {\n",
              "  const inputElement = document.getElementById(inputId);\n",
              "  inputElement.disabled = false;\n",
              "\n",
              "  const outputElement = document.getElementById(outputId);\n",
              "  outputElement.innerHTML = '';\n",
              "\n",
              "  const pickedPromise = new Promise((resolve) => {\n",
              "    inputElement.addEventListener('change', (e) => {\n",
              "      resolve(e.target.files);\n",
              "    });\n",
              "  });\n",
              "\n",
              "  const cancel = document.createElement('button');\n",
              "  inputElement.parentElement.appendChild(cancel);\n",
              "  cancel.textContent = 'Cancel upload';\n",
              "  const cancelPromise = new Promise((resolve) => {\n",
              "    cancel.onclick = () => {\n",
              "      resolve(null);\n",
              "    };\n",
              "  });\n",
              "\n",
              "  // Wait for the user to pick the files.\n",
              "  const files = yield {\n",
              "    promise: Promise.race([pickedPromise, cancelPromise]),\n",
              "    response: {\n",
              "      action: 'starting',\n",
              "    }\n",
              "  };\n",
              "\n",
              "  cancel.remove();\n",
              "\n",
              "  // Disable the input element since further picks are not allowed.\n",
              "  inputElement.disabled = true;\n",
              "\n",
              "  if (!files) {\n",
              "    return {\n",
              "      response: {\n",
              "        action: 'complete',\n",
              "      }\n",
              "    };\n",
              "  }\n",
              "\n",
              "  for (const file of files) {\n",
              "    const li = document.createElement('li');\n",
              "    li.append(span(file.name, {fontWeight: 'bold'}));\n",
              "    li.append(span(\n",
              "        `(${file.type || 'n/a'}) - ${file.size} bytes, ` +\n",
              "        `last modified: ${\n",
              "            file.lastModifiedDate ? file.lastModifiedDate.toLocaleDateString() :\n",
              "                                    'n/a'} - `));\n",
              "    const percent = span('0% done');\n",
              "    li.appendChild(percent);\n",
              "\n",
              "    outputElement.appendChild(li);\n",
              "\n",
              "    const fileDataPromise = new Promise((resolve) => {\n",
              "      const reader = new FileReader();\n",
              "      reader.onload = (e) => {\n",
              "        resolve(e.target.result);\n",
              "      };\n",
              "      reader.readAsArrayBuffer(file);\n",
              "    });\n",
              "    // Wait for the data to be ready.\n",
              "    let fileData = yield {\n",
              "      promise: fileDataPromise,\n",
              "      response: {\n",
              "        action: 'continue',\n",
              "      }\n",
              "    };\n",
              "\n",
              "    // Use a chunked sending to avoid message size limits. See b/62115660.\n",
              "    let position = 0;\n",
              "    do {\n",
              "      const length = Math.min(fileData.byteLength - position, MAX_PAYLOAD_SIZE);\n",
              "      const chunk = new Uint8Array(fileData, position, length);\n",
              "      position += length;\n",
              "\n",
              "      const base64 = btoa(String.fromCharCode.apply(null, chunk));\n",
              "      yield {\n",
              "        response: {\n",
              "          action: 'append',\n",
              "          file: file.name,\n",
              "          data: base64,\n",
              "        },\n",
              "      };\n",
              "\n",
              "      let percentDone = fileData.byteLength === 0 ?\n",
              "          100 :\n",
              "          Math.round((position / fileData.byteLength) * 100);\n",
              "      percent.textContent = `${percentDone}% done`;\n",
              "\n",
              "    } while (position < fileData.byteLength);\n",
              "  }\n",
              "\n",
              "  // All done.\n",
              "  yield {\n",
              "    response: {\n",
              "      action: 'complete',\n",
              "    }\n",
              "  };\n",
              "}\n",
              "\n",
              "scope.google = scope.google || {};\n",
              "scope.google.colab = scope.google.colab || {};\n",
              "scope.google.colab._files = {\n",
              "  _uploadFiles,\n",
              "  _uploadFilesContinue,\n",
              "};\n",
              "})(self);\n",
              "</script> "
            ]
          },
          "metadata": {}
        },
        {
          "output_type": "stream",
          "name": "stdout",
          "text": [
            "Saving height_weight_data.csv to height_weight_data (16).csv\n",
            "0      65.78\n",
            "1      71.52\n",
            "2      69.40\n",
            "3      68.22\n",
            "4      67.79\n",
            "       ...  \n",
            "195    65.80\n",
            "196    66.11\n",
            "197    68.24\n",
            "198    68.02\n",
            "199    71.39\n",
            "Name: 1, Length: 200, dtype: float64\n",
            "Mean: 67.9498\n",
            "Median: 67.935\n",
            "Max: 73.9\n",
            "Min: 63.43\n",
            "Q1 66.52250000000001\n",
            "Q3 69.2025\n",
            "IQR 2.6799999999999926\n"
          ]
        },
        {
          "output_type": "display_data",
          "data": {
            "text/plain": [
              "<Figure size 640x480 with 1 Axes>"
            ],
            "image/png": "[encoded data removed]"
          },
          "metadata": {}
        }
      ]
    },
    {
      "cell_type": "markdown",
      "source": [
        "#### Exercise 7\n",
        "Read the CSV file named `datasaurus.csv` into a pandas DataFrame.\n",
        "\n",
        "Then inspect the data. Retrieve and display names of datasets in the `dataset` column of the DataFrame."
      ],
      "metadata": {
        "id": "Ye_KGHnx-zZc"
      }
    },
    {
      "cell_type": "code",
      "source": [
        "import pandas as pd\n",
        "\n",
        "from google.colab import files\n",
        "files.upload()\n",
        "\n",
        "df = pd.read_csv('datasaurus.csv')\n",
        "\n",
        "print(df['dataset'])"
      ],
      "metadata": {
        "id": "D7wblvm1KH55",
        "colab": {
          "base_uri": "https://localhost:8080/",
          "height": 288
        },
        "outputId": "4366c67f-e9b1-4ba6-c12d-bf09f17eb33c"
      },
      "execution_count": 184,
      "outputs": [
        {
          "output_type": "display_data",
          "data": {
            "text/plain": [
              "<IPython.core.display.HTML object>"
            ],
            "text/html": [
              "\n",
              "     <input type=\"file\" id=\"files-a7bc2eeb-959b-4035-adc2-ec9aa9ebc3dd\" name=\"files[]\" multiple disabled\n",
              "        style=\"border:none\" />\n",
              "     <output id=\"result-a7bc2eeb-959b-4035-adc2-ec9aa9ebc3dd\">\n",
              "      Upload widget is only available when the cell has been executed in the\n",
              "      current browser session. Please rerun this cell to enable.\n",
              "      </output>\n",
              "      <script>// Copyright 2017 Google LLC\n",
              "//\n",
              "// Licensed under the Apache License, Version 2.0 (the \"License\");\n",
              "// you may not use this file except in compliance with the License.\n",
              "// You may obtain a copy of the License at\n",
              "//\n",
              "//      http://www.apache.org/licenses/LICENSE-2.0\n",
              "//\n",
              "// Unless required by applicable law or agreed to in writing, software\n",
              "// distributed under the License is distributed on an \"AS IS\" BASIS,\n",
              "// WITHOUT WARRANTIES OR CONDITIONS OF ANY KIND, either express or implied.\n",
              "// See the License for the specific language governing permissions and\n",
              "// limitations under the License.\n",
              "\n",
              "/**\n",
              " * @fileoverview Helpers for google.colab Python module.\n",
              " */\n",
              "(function(scope) {\n",
              "function span(text, styleAttributes = {}) {\n",
              "  const element = document.createElement('span');\n",
              "  element.textContent = text;\n",
              "  for (const key of Object.keys(styleAttributes)) {\n",
              "    element.style[key] = styleAttributes[key];\n",
              "  }\n",
              "  return element;\n",
              "}\n",
              "\n",
              "// Max number of bytes which will be uploaded at a time.\n",
              "const MAX_PAYLOAD_SIZE = 100 * 1024;\n",
              "\n",
              "function _uploadFiles(inputId, outputId) {\n",
              "  const steps = uploadFilesStep(inputId, outputId);\n",
              "  const outputElement = document.getElementById(outputId);\n",
              "  // Cache steps on the outputElement to make it available for the next call\n",
              "  // to uploadFilesContinue from Python.\n",
              "  outputElement.steps = steps;\n",
              "\n",
              "  return _uploadFilesContinue(outputId);\n",
              "}\n",
              "\n",
              "// This is roughly an async generator (not supported in the browser yet),\n",
              "// where there are multiple asynchronous steps and the Python side is going\n",
              "// to poll for completion of each step.\n",
              "// This uses a Promise to block the python side on completion of each step,\n",
              "// then passes the result of the previous step as the input to the next step.\n",
              "function _uploadFilesContinue(outputId) {\n",
              "  const outputElement = document.getElementById(outputId);\n",
              "  const steps = outputElement.steps;\n",
              "\n",
              "  const next = steps.next(outputElement.lastPromiseValue);\n",
              "  return Promise.resolve(next.value.promise).then((value) => {\n",
              "    // Cache the last promise value to make it available to the next\n",
              "    // step of the generator.\n",
              "    outputElement.lastPromiseValue = value;\n",
              "    return next.value.response;\n",
              "  });\n",
              "}\n",
              "\n",
              "/**\n",
              " * Generator function which is called between each async step of the upload\n",
              " * process.\n",
              " * @param {string} inputId Element ID of the input file picker element.\n",
              " * @param {string} outputId Element ID of the output display.\n",
              " * @return {!Iterable<!Object>} Iterable of next steps.\n",
              " */\n",
              "function* uploadFilesStep(inputId, outputId) {\n",
              "  const inputElement = document.getElementById(inputId);\n",
              "  inputElement.disabled = false;\n",
              "\n",
              "  const outputElement = document.getElementById(outputId);\n",
              "  outputElement.innerHTML = '';\n",
              "\n",
              "  const pickedPromise = new Promise((resolve) => {\n",
              "    inputElement.addEventListener('change', (e) => {\n",
              "      resolve(e.target.files);\n",
              "    });\n",
              "  });\n",
              "\n",
              "  const cancel = document.createElement('button');\n",
              "  inputElement.parentElement.appendChild(cancel);\n",
              "  cancel.textContent = 'Cancel upload';\n",
              "  const cancelPromise = new Promise((resolve) => {\n",
              "    cancel.onclick = () => {\n",
              "      resolve(null);\n",
              "    };\n",
              "  });\n",
              "\n",
              "  // Wait for the user to pick the files.\n",
              "  const files = yield {\n",
              "    promise: Promise.race([pickedPromise, cancelPromise]),\n",
              "    response: {\n",
              "      action: 'starting',\n",
              "    }\n",
              "  };\n",
              "\n",
              "  cancel.remove();\n",
              "\n",
              "  // Disable the input element since further picks are not allowed.\n",
              "  inputElement.disabled = true;\n",
              "\n",
              "  if (!files) {\n",
              "    return {\n",
              "      response: {\n",
              "        action: 'complete',\n",
              "      }\n",
              "    };\n",
              "  }\n",
              "\n",
              "  for (const file of files) {\n",
              "    const li = document.createElement('li');\n",
              "    li.append(span(file.name, {fontWeight: 'bold'}));\n",
              "    li.append(span(\n",
              "        `(${file.type || 'n/a'}) - ${file.size} bytes, ` +\n",
              "        `last modified: ${\n",
              "            file.lastModifiedDate ? file.lastModifiedDate.toLocaleDateString() :\n",
              "                                    'n/a'} - `));\n",
              "    const percent = span('0% done');\n",
              "    li.appendChild(percent);\n",
              "\n",
              "    outputElement.appendChild(li);\n",
              "\n",
              "    const fileDataPromise = new Promise((resolve) => {\n",
              "      const reader = new FileReader();\n",
              "      reader.onload = (e) => {\n",
              "        resolve(e.target.result);\n",
              "      };\n",
              "      reader.readAsArrayBuffer(file);\n",
              "    });\n",
              "    // Wait for the data to be ready.\n",
              "    let fileData = yield {\n",
              "      promise: fileDataPromise,\n",
              "      response: {\n",
              "        action: 'continue',\n",
              "      }\n",
              "    };\n",
              "\n",
              "    // Use a chunked sending to avoid message size limits. See b/62115660.\n",
              "    let position = 0;\n",
              "    do {\n",
              "      const length = Math.min(fileData.byteLength - position, MAX_PAYLOAD_SIZE);\n",
              "      const chunk = new Uint8Array(fileData, position, length);\n",
              "      position += length;\n",
              "\n",
              "      const base64 = btoa(String.fromCharCode.apply(null, chunk));\n",
              "      yield {\n",
              "        response: {\n",
              "          action: 'append',\n",
              "          file: file.name,\n",
              "          data: base64,\n",
              "        },\n",
              "      };\n",
              "\n",
              "      let percentDone = fileData.byteLength === 0 ?\n",
              "          100 :\n",
              "          Math.round((position / fileData.byteLength) * 100);\n",
              "      percent.textContent = `${percentDone}% done`;\n",
              "\n",
              "    } while (position < fileData.byteLength);\n",
              "  }\n",
              "\n",
              "  // All done.\n",
              "  yield {\n",
              "    response: {\n",
              "      action: 'complete',\n",
              "    }\n",
              "  };\n",
              "}\n",
              "\n",
              "scope.google = scope.google || {};\n",
              "scope.google.colab = scope.google.colab || {};\n",
              "scope.google.colab._files = {\n",
              "  _uploadFiles,\n",
              "  _uploadFilesContinue,\n",
              "};\n",
              "})(self);\n",
              "</script> "
            ]
          },
          "metadata": {}
        },
        {
          "output_type": "stream",
          "name": "stdout",
          "text": [
            "Saving datasaurus.csv to datasaurus (9).csv\n",
            "0             dino\n",
            "1             dino\n",
            "2             dino\n",
            "3             dino\n",
            "4             dino\n",
            "           ...    \n",
            "1841    wide_lines\n",
            "1842    wide_lines\n",
            "1843    wide_lines\n",
            "1844    wide_lines\n",
            "1845    wide_lines\n",
            "Name: dataset, Length: 1846, dtype: object\n"
          ]
        }
      ]
    },
    {
      "cell_type": "markdown",
      "source": [
        "#### Exercise 8\n",
        "Read the CSV file named `datasaurus.csv` into a pandas DataFrame.\n",
        "\n",
        "For datasets named `dino` and `circle`:\n",
        "- calculate and display for **x** values:\n",
        "  - median\n",
        "  - mean\n",
        "  - standard deviation\n",
        "  - variance\n",
        "- create and display scatter plot for both datasets"
      ],
      "metadata": {
        "id": "pEtOtgLdYlZk"
      }
    },
    {
      "cell_type": "code",
      "source": [
        "import pandas as pd\n",
        "import matplotlib.pyplot as plt\n",
        "\n",
        "from google.colab import files\n",
        "files.upload()\n",
        "\n",
        "df = pd.read_csv('datasaurus.csv')\n",
        "\n",
        "\n",
        "dino = df[df['dataset'] == 'dino']\n",
        "dino_mean = df.loc[df['dataset'] == 'dino', 'x'].mean()\n",
        "dino_median = df.loc[df['dataset'] == 'dino', 'x'].median()\n",
        "dino_std = df.loc[df['dataset'] == 'dino', 'x'].std()\n",
        "dino_var = df.loc[df['dataset'] == 'dino', 'x'].var()\n",
        "\n",
        "\n",
        "print(dino)\n",
        "print(\"Mean:\",dino_mean)\n",
        "print(\"Median:\", dino_median)\n",
        "print(\"Standard Deviation:\", dino_std)\n",
        "print(\"Variance:\", dino_var)\n",
        "\n",
        "plt.scatter(dino['x'], dino['y'], color = 'green')\n",
        "plt.show()\n",
        "print()\n",
        "\n",
        "\n",
        "circle = df[df['dataset'] == 'circle']\n",
        "circle_mean = df.loc[df['dataset'] == 'circle', 'x'].mean()\n",
        "circle_median = df.loc[df['dataset'] == 'circle', 'x'].median()\n",
        "circle_std = df.loc[df['dataset'] == 'circle', 'x'].std()\n",
        "circle_var = df.loc[df['dataset'] == 'circle', 'x'].var()\n",
        "\n",
        "\n",
        "print(circle)\n",
        "print(\"Mean:\",circle_mean)\n",
        "print(\"Median:\", circle_median)\n",
        "print(\"Standard Deviation:\", circle_std)\n",
        "print(\"Variance:\", circle_var)\n",
        "\n",
        "plt.scatter(circle['x'], circle['y'], color = 'pink')\n",
        "plt.show()\n",
        "print()\n",
        "\n"
      ],
      "metadata": {
        "id": "VWhUY8101htk",
        "colab": {
          "base_uri": "https://localhost:8080/",
          "height": 1000
        },
        "outputId": "a01b755e-6d1f-42b3-c8b7-7ba4571cf78c"
      },
      "execution_count": 236,
      "outputs": [
        {
          "output_type": "display_data",
          "data": {
            "text/plain": [
              "<IPython.core.display.HTML object>"
            ],
            "text/html": [
              "\n",
              "     <input type=\"file\" id=\"files-e9510d49-3253-4870-9b23-a1e92c989cdb\" name=\"files[]\" multiple disabled\n",
              "        style=\"border:none\" />\n",
              "     <output id=\"result-e9510d49-3253-4870-9b23-a1e92c989cdb\">\n",
              "      Upload widget is only available when the cell has been executed in the\n",
              "      current browser session. Please rerun this cell to enable.\n",
              "      </output>\n",
              "      <script>// Copyright 2017 Google LLC\n",
              "//\n",
              "// Licensed under the Apache License, Version 2.0 (the \"License\");\n",
              "// you may not use this file except in compliance with the License.\n",
              "// You may obtain a copy of the License at\n",
              "//\n",
              "//      http://www.apache.org/licenses/LICENSE-2.0\n",
              "//\n",
              "// Unless required by applicable law or agreed to in writing, software\n",
              "// distributed under the License is distributed on an \"AS IS\" BASIS,\n",
              "// WITHOUT WARRANTIES OR CONDITIONS OF ANY KIND, either express or implied.\n",
              "// See the License for the specific language governing permissions and\n",
              "// limitations under the License.\n",
              "\n",
              "/**\n",
              " * @fileoverview Helpers for google.colab Python module.\n",
              " */\n",
              "(function(scope) {\n",
              "function span(text, styleAttributes = {}) {\n",
              "  const element = document.createElement('span');\n",
              "  element.textContent = text;\n",
              "  for (const key of Object.keys(styleAttributes)) {\n",
              "    element.style[key] = styleAttributes[key];\n",
              "  }\n",
              "  return element;\n",
              "}\n",
              "\n",
              "// Max number of bytes which will be uploaded at a time.\n",
              "const MAX_PAYLOAD_SIZE = 100 * 1024;\n",
              "\n",
              "function _uploadFiles(inputId, outputId) {\n",
              "  const steps = uploadFilesStep(inputId, outputId);\n",
              "  const outputElement = document.getElementById(outputId);\n",
              "  // Cache steps on the outputElement to make it available for the next call\n",
              "  // to uploadFilesContinue from Python.\n",
              "  outputElement.steps = steps;\n",
              "\n",
              "  return _uploadFilesContinue(outputId);\n",
              "}\n",
              "\n",
              "// This is roughly an async generator (not supported in the browser yet),\n",
              "// where there are multiple asynchronous steps and the Python side is going\n",
              "// to poll for completion of each step.\n",
              "// This uses a Promise to block the python side on completion of each step,\n",
              "// then passes the result of the previous step as the input to the next step.\n",
              "function _uploadFilesContinue(outputId) {\n",
              "  const outputElement = document.getElementById(outputId);\n",
              "  const steps = outputElement.steps;\n",
              "\n",
              "  const next = steps.next(outputElement.lastPromiseValue);\n",
              "  return Promise.resolve(next.value.promise).then((value) => {\n",
              "    // Cache the last promise value to make it available to the next\n",
              "    // step of the generator.\n",
              "    outputElement.lastPromiseValue = value;\n",
              "    return next.value.response;\n",
              "  });\n",
              "}\n",
              "\n",
              "/**\n",
              " * Generator function which is called between each async step of the upload\n",
              " * process.\n",
              " * @param {string} inputId Element ID of the input file picker element.\n",
              " * @param {string} outputId Element ID of the output display.\n",
              " * @return {!Iterable<!Object>} Iterable of next steps.\n",
              " */\n",
              "function* uploadFilesStep(inputId, outputId) {\n",
              "  const inputElement = document.getElementById(inputId);\n",
              "  inputElement.disabled = false;\n",
              "\n",
              "  const outputElement = document.getElementById(outputId);\n",
              "  outputElement.innerHTML = '';\n",
              "\n",
              "  const pickedPromise = new Promise((resolve) => {\n",
              "    inputElement.addEventListener('change', (e) => {\n",
              "      resolve(e.target.files);\n",
              "    });\n",
              "  });\n",
              "\n",
              "  const cancel = document.createElement('button');\n",
              "  inputElement.parentElement.appendChild(cancel);\n",
              "  cancel.textContent = 'Cancel upload';\n",
              "  const cancelPromise = new Promise((resolve) => {\n",
              "    cancel.onclick = () => {\n",
              "      resolve(null);\n",
              "    };\n",
              "  });\n",
              "\n",
              "  // Wait for the user to pick the files.\n",
              "  const files = yield {\n",
              "    promise: Promise.race([pickedPromise, cancelPromise]),\n",
              "    response: {\n",
              "      action: 'starting',\n",
              "    }\n",
              "  };\n",
              "\n",
              "  cancel.remove();\n",
              "\n",
              "  // Disable the input element since further picks are not allowed.\n",
              "  inputElement.disabled = true;\n",
              "\n",
              "  if (!files) {\n",
              "    return {\n",
              "      response: {\n",
              "        action: 'complete',\n",
              "      }\n",
              "    };\n",
              "  }\n",
              "\n",
              "  for (const file of files) {\n",
              "    const li = document.createElement('li');\n",
              "    li.append(span(file.name, {fontWeight: 'bold'}));\n",
              "    li.append(span(\n",
              "        `(${file.type || 'n/a'}) - ${file.size} bytes, ` +\n",
              "        `last modified: ${\n",
              "            file.lastModifiedDate ? file.lastModifiedDate.toLocaleDateString() :\n",
              "                                    'n/a'} - `));\n",
              "    const percent = span('0% done');\n",
              "    li.appendChild(percent);\n",
              "\n",
              "    outputElement.appendChild(li);\n",
              "\n",
              "    const fileDataPromise = new Promise((resolve) => {\n",
              "      const reader = new FileReader();\n",
              "      reader.onload = (e) => {\n",
              "        resolve(e.target.result);\n",
              "      };\n",
              "      reader.readAsArrayBuffer(file);\n",
              "    });\n",
              "    // Wait for the data to be ready.\n",
              "    let fileData = yield {\n",
              "      promise: fileDataPromise,\n",
              "      response: {\n",
              "        action: 'continue',\n",
              "      }\n",
              "    };\n",
              "\n",
              "    // Use a chunked sending to avoid message size limits. See b/62115660.\n",
              "    let position = 0;\n",
              "    do {\n",
              "      const length = Math.min(fileData.byteLength - position, MAX_PAYLOAD_SIZE);\n",
              "      const chunk = new Uint8Array(fileData, position, length);\n",
              "      position += length;\n",
              "\n",
              "      const base64 = btoa(String.fromCharCode.apply(null, chunk));\n",
              "      yield {\n",
              "        response: {\n",
              "          action: 'append',\n",
              "          file: file.name,\n",
              "          data: base64,\n",
              "        },\n",
              "      };\n",
              "\n",
              "      let percentDone = fileData.byteLength === 0 ?\n",
              "          100 :\n",
              "          Math.round((position / fileData.byteLength) * 100);\n",
              "      percent.textContent = `${percentDone}% done`;\n",
              "\n",
              "    } while (position < fileData.byteLength);\n",
              "  }\n",
              "\n",
              "  // All done.\n",
              "  yield {\n",
              "    response: {\n",
              "      action: 'complete',\n",
              "    }\n",
              "  };\n",
              "}\n",
              "\n",
              "scope.google = scope.google || {};\n",
              "scope.google.colab = scope.google.colab || {};\n",
              "scope.google.colab._files = {\n",
              "  _uploadFiles,\n",
              "  _uploadFilesContinue,\n",
              "};\n",
              "})(self);\n",
              "</script> "
            ]
          },
          "metadata": {}
        },
        {
          "output_type": "stream",
          "name": "stdout",
          "text": [
            "Saving datasaurus.csv to datasaurus (58).csv\n",
            "    dataset        x        y\n",
            "0      dino  55.3846  97.1795\n",
            "1      dino  51.5385  96.0256\n",
            "2      dino  46.1538  94.4872\n",
            "3      dino  42.8205  91.4103\n",
            "4      dino  40.7692  88.3333\n",
            "..      ...      ...      ...\n",
            "137    dino  39.4872  25.3846\n",
            "138    dino  91.2821  41.5385\n",
            "139    dino  50.0000  95.7692\n",
            "140    dino  47.9487  95.0000\n",
            "141    dino  44.1026  92.6923\n",
            "\n",
            "[142 rows x 3 columns]\n",
            "Mean: 54.26327323943662\n",
            "Median: 53.3333\n",
            "Standard Deviation: 16.765142039116785\n",
            "Variance: 281.06998759176093\n"
          ]
        },
        {
          "output_type": "display_data",
          "data": {
            "text/plain": [
              "<Figure size 640x480 with 1 Axes>"
            ],
            "image/png": "[encoded data removed]"
          },
          "metadata": {}
        },
        {
          "output_type": "stream",
          "name": "stdout",
          "text": [
            "\n",
            "     dataset          x          y\n",
            "1136  circle  55.993030  79.277264\n",
            "1137  circle  50.032254  79.013071\n",
            "1138  circle  51.288459  82.435940\n",
            "1139  circle  51.170537  79.165294\n",
            "1140  circle  44.377915  78.164628\n",
            "...      ...        ...        ...\n",
            "1273  circle  39.921363  19.701850\n",
            "1274  circle  84.794278  55.568650\n",
            "1275  circle  55.662959  83.356480\n",
            "1276  circle  50.492248  78.997532\n",
            "1277  circle  51.467101  79.201845\n",
            "\n",
            "[142 rows x 3 columns]\n",
            "Mean: 54.267319706173936\n",
            "Median: 54.0232131774\n",
            "Standard Deviation: 16.760012659672196\n",
            "Variance: 280.89802435237226\n"
          ]
        },
        {
          "output_type": "display_data",
          "data": {
            "text/plain": [
              "<Figure size 640x480 with 1 Axes>"
            ],
            "image/png": "[encoded data removed]"
          },
          "metadata": {}
        },
        {
          "output_type": "stream",
          "name": "stdout",
          "text": [
            "\n"
          ]
        }
      ]
    },
    {
      "cell_type": "markdown",
      "source": [
        "#### Exercise 9\n",
        "Read the CSV file named `anscombes.csv` into a pandas DataFrame.\n",
        "\n",
        "Inspect the data and for each dataset calculate for **x** and **y**:\n",
        "- mean\n",
        "- median\n",
        "- standard deviation\n",
        "- variance\n",
        "\n",
        "Example print for single dataset:\n",
        "```\n",
        "Dataset I:\n",
        "Mean: 9.0\n",
        "Median: 9.0\n",
        "Std: 3.3166247903554\n",
        "Variance: 11.0\n",
        "\n",
        "Dataset II:\n",
        "...\n",
        "```"
      ],
      "metadata": {
        "id": "MmrkXj_f_E3D"
      }
    },
    {
      "cell_type": "code",
      "source": [
        "import pandas as pd\n",
        "import matplotlib.pyplot as plt\n",
        "\n",
        "from google.colab import files\n",
        "files.upload()\n",
        "\n",
        "df = pd.read_csv('anscombes.csv')\n",
        "\n",
        "dataset1 = df[df['dataset'] == 'I']\n",
        "\n",
        "\n",
        "dataset1_mean_x = df.loc[df['dataset'] == 'I', 'x'].mean()\n",
        "dataset1_median_x = df.loc[df['dataset'] == 'I', 'x'].median()\n",
        "dataset1_std_x = df.loc[df['dataset'] == 'I', 'x'].std()\n",
        "dataset1_var_x = df.loc[df['dataset'] == 'I', 'x'].var()\n",
        "\n",
        "\n",
        "\n",
        "dataset1_mean_y = df.loc[df['dataset'] == 'I', 'y'].mean()\n",
        "dataset1_median_y = df.loc[df['dataset'] == 'I', 'y'].median()\n",
        "dataset1_std_y = df.loc[df['dataset'] == 'I', 'y'].std()\n",
        "dataset1_var_y = df.loc[df['dataset'] == 'I', 'y'].var()\n",
        "\n",
        "\n",
        "\n",
        "print(\"Dataset I:\")\n",
        "print()\n",
        "print(\"Mean X:\", dataset1_mean_x)\n",
        "print(\"Median X:\", dataset1_median_x)\n",
        "print(\"Standard Deviation X:\", dataset1_std_x)\n",
        "print(\"Variance X:\", dataset1_var_x)\n",
        "print()\n",
        "print(\"Mean Y:\", dataset1_mean_y)\n",
        "print(\"Median Y:\", dataset1_median_y)\n",
        "print(\"Standard Deviation Y:\", dataset1_std_y)\n",
        "print(\"Variance Y:\", dataset1_var_y)\n",
        "print()\n",
        "\n",
        "\n",
        "dataset2 = df[df['dataset'] == 'II']\n",
        "\n",
        "\n",
        "dataset2_mean_x = df.loc[df['dataset'] == 'II', 'x'].mean()\n",
        "dataset2_median_x = df.loc[df['dataset'] == 'II', 'x'].median()\n",
        "dataset2_std_x = df.loc[df['dataset'] == 'II', 'x'].std()\n",
        "dataset2_var_x = df.loc[df['dataset'] == 'II', 'x'].var()\n",
        "\n",
        "\n",
        "\n",
        "dataset2_mean_y = df.loc[df['dataset'] == 'II', 'y'].mean()\n",
        "dataset2_median_y = df.loc[df['dataset'] == 'II', 'y'].median()\n",
        "dataset2_std_y = df.loc[df['dataset'] == 'II', 'y'].std()\n",
        "dataset2_var_y = df.loc[df['dataset'] == 'II', 'y'].var()\n",
        "\n",
        "\n",
        "\n",
        "print(\"Dataset II:\")\n",
        "print()\n",
        "print(\"Mean X:\", dataset2_mean_x)\n",
        "print(\"Median X:\", dataset2_median_x)\n",
        "print(\"Standard Deviation X:\", dataset2_std_x)\n",
        "print(\"Variance X:\", dataset2_var_x)\n",
        "print()\n",
        "print(\"Mean Y:\", dataset2_mean_y)\n",
        "print(\"Median Y:\", dataset2_median_y)\n",
        "print(\"Standard Deviation Y:\", dataset2_std_y)\n",
        "print(\"Variance Y:\", dataset2_var_y)\n",
        "print()\n",
        "\n",
        "\n",
        "dataset3 = df[df['dataset'] == 'III']\n",
        "\n",
        "\n",
        "dataset3_mean_x = df.loc[df['dataset'] == 'III', 'x'].mean()\n",
        "dataset3_median_x = df.loc[df['dataset'] == 'III', 'x'].median()\n",
        "dataset3_std_x = df.loc[df['dataset'] == 'III', 'x'].std()\n",
        "dataset3_var_x = df.loc[df['dataset'] == 'III', 'x'].var()\n",
        "\n",
        "\n",
        "\n",
        "dataset3_mean_y = df.loc[df['dataset'] == 'III', 'y'].mean()\n",
        "dataset3_median_y = df.loc[df['dataset'] == 'III', 'y'].median()\n",
        "dataset3_std_y = df.loc[df['dataset'] == 'III', 'y'].std()\n",
        "dataset3_var_y = df.loc[df['dataset'] == 'III', 'y'].var()\n",
        "\n",
        "\n",
        "\n",
        "print(\"Dataset III:\")\n",
        "print()\n",
        "print(\"Mean X:\", dataset3_mean_x)\n",
        "print(\"Median X:\", dataset3_median_x)\n",
        "print(\"Standard Deviation X:\", dataset3_std_x)\n",
        "print(\"Variance X:\", dataset3_var_x)\n",
        "print()\n",
        "print(\"Mean Y:\", dataset3_mean_y)\n",
        "print(\"Median Y:\", dataset3_median_y)\n",
        "print(\"Standard Deviation Y:\", dataset3_std_y)\n",
        "print(\"Variance Y:\", dataset3_var_y)\n",
        "print()\n",
        "\n",
        "\n",
        "dataset4 = df[df['dataset'] == 'IV']\n",
        "\n",
        "\n",
        "dataset4_mean_x = df.loc[df['dataset'] == 'IV', 'x'].mean()\n",
        "dataset4_median_x = df.loc[df['dataset'] == 'IV', 'x'].median()\n",
        "dataset4_std_x = df.loc[df['dataset'] == 'IV', 'x'].std()\n",
        "dataset4_var_x = df.loc[df['dataset'] == 'IV', 'x'].var()\n",
        "\n",
        "\n",
        "\n",
        "dataset4_mean_y = df.loc[df['dataset'] == 'IV', 'y'].mean()\n",
        "dataset4_median_y = df.loc[df['dataset'] == 'IV', 'y'].median()\n",
        "dataset4_std_y = df.loc[df['dataset'] == 'IV', 'y'].std()\n",
        "dataset4_var_y = df.loc[df['dataset'] == 'IV', 'y'].var()\n",
        "\n",
        "\n",
        "\n",
        "print(\"Dataset IV:\")\n",
        "print()\n",
        "print(\"Mean X:\", dataset4_mean_x)\n",
        "print(\"Median X:\", dataset4_median_x)\n",
        "print(\"Standard Deviation X:\", dataset4_std_x)\n",
        "print(\"Variance X:\", dataset4_var_x)\n",
        "print()\n",
        "print(\"Mean Y:\", dataset4_mean_y)\n",
        "print(\"Median Y:\", dataset4_median_y)\n",
        "print(\"Standard Deviation Y:\", dataset4_std_y)\n",
        "print(\"Variance Y:\", dataset4_var_y)\n",
        "print()"
      ],
      "metadata": {
        "id": "zCab2cs6xv6d",
        "colab": {
          "base_uri": "https://localhost:8080/",
          "height": 931
        },
        "outputId": "4e50945b-56f4-4d8c-d3af-1b642762b155"
      },
      "execution_count": 246,
      "outputs": [
        {
          "output_type": "display_data",
          "data": {
            "text/plain": [
              "<IPython.core.display.HTML object>"
            ],
            "text/html": [
              "\n",
              "     <input type=\"file\" id=\"files-e7f9f887-46f9-480f-b183-dfc7e0b3fde1\" name=\"files[]\" multiple disabled\n",
              "        style=\"border:none\" />\n",
              "     <output id=\"result-e7f9f887-46f9-480f-b183-dfc7e0b3fde1\">\n",
              "      Upload widget is only available when the cell has been executed in the\n",
              "      current browser session. Please rerun this cell to enable.\n",
              "      </output>\n",
              "      <script>// Copyright 2017 Google LLC\n",
              "//\n",
              "// Licensed under the Apache License, Version 2.0 (the \"License\");\n",
              "// you may not use this file except in compliance with the License.\n",
              "// You may obtain a copy of the License at\n",
              "//\n",
              "//      http://www.apache.org/licenses/LICENSE-2.0\n",
              "//\n",
              "// Unless required by applicable law or agreed to in writing, software\n",
              "// distributed under the License is distributed on an \"AS IS\" BASIS,\n",
              "// WITHOUT WARRANTIES OR CONDITIONS OF ANY KIND, either express or implied.\n",
              "// See the License for the specific language governing permissions and\n",
              "// limitations under the License.\n",
              "\n",
              "/**\n",
              " * @fileoverview Helpers for google.colab Python module.\n",
              " */\n",
              "(function(scope) {\n",
              "function span(text, styleAttributes = {}) {\n",
              "  const element = document.createElement('span');\n",
              "  element.textContent = text;\n",
              "  for (const key of Object.keys(styleAttributes)) {\n",
              "    element.style[key] = styleAttributes[key];\n",
              "  }\n",
              "  return element;\n",
              "}\n",
              "\n",
              "// Max number of bytes which will be uploaded at a time.\n",
              "const MAX_PAYLOAD_SIZE = 100 * 1024;\n",
              "\n",
              "function _uploadFiles(inputId, outputId) {\n",
              "  const steps = uploadFilesStep(inputId, outputId);\n",
              "  const outputElement = document.getElementById(outputId);\n",
              "  // Cache steps on the outputElement to make it available for the next call\n",
              "  // to uploadFilesContinue from Python.\n",
              "  outputElement.steps = steps;\n",
              "\n",
              "  return _uploadFilesContinue(outputId);\n",
              "}\n",
              "\n",
              "// This is roughly an async generator (not supported in the browser yet),\n",
              "// where there are multiple asynchronous steps and the Python side is going\n",
              "// to poll for completion of each step.\n",
              "// This uses a Promise to block the python side on completion of each step,\n",
              "// then passes the result of the previous step as the input to the next step.\n",
              "function _uploadFilesContinue(outputId) {\n",
              "  const outputElement = document.getElementById(outputId);\n",
              "  const steps = outputElement.steps;\n",
              "\n",
              "  const next = steps.next(outputElement.lastPromiseValue);\n",
              "  return Promise.resolve(next.value.promise).then((value) => {\n",
              "    // Cache the last promise value to make it available to the next\n",
              "    // step of the generator.\n",
              "    outputElement.lastPromiseValue = value;\n",
              "    return next.value.response;\n",
              "  });\n",
              "}\n",
              "\n",
              "/**\n",
              " * Generator function which is called between each async step of the upload\n",
              " * process.\n",
              " * @param {string} inputId Element ID of the input file picker element.\n",
              " * @param {string} outputId Element ID of the output display.\n",
              " * @return {!Iterable<!Object>} Iterable of next steps.\n",
              " */\n",
              "function* uploadFilesStep(inputId, outputId) {\n",
              "  const inputElement = document.getElementById(inputId);\n",
              "  inputElement.disabled = false;\n",
              "\n",
              "  const outputElement = document.getElementById(outputId);\n",
              "  outputElement.innerHTML = '';\n",
              "\n",
              "  const pickedPromise = new Promise((resolve) => {\n",
              "    inputElement.addEventListener('change', (e) => {\n",
              "      resolve(e.target.files);\n",
              "    });\n",
              "  });\n",
              "\n",
              "  const cancel = document.createElement('button');\n",
              "  inputElement.parentElement.appendChild(cancel);\n",
              "  cancel.textContent = 'Cancel upload';\n",
              "  const cancelPromise = new Promise((resolve) => {\n",
              "    cancel.onclick = () => {\n",
              "      resolve(null);\n",
              "    };\n",
              "  });\n",
              "\n",
              "  // Wait for the user to pick the files.\n",
              "  const files = yield {\n",
              "    promise: Promise.race([pickedPromise, cancelPromise]),\n",
              "    response: {\n",
              "      action: 'starting',\n",
              "    }\n",
              "  };\n",
              "\n",
              "  cancel.remove();\n",
              "\n",
              "  // Disable the input element since further picks are not allowed.\n",
              "  inputElement.disabled = true;\n",
              "\n",
              "  if (!files) {\n",
              "    return {\n",
              "      response: {\n",
              "        action: 'complete',\n",
              "      }\n",
              "    };\n",
              "  }\n",
              "\n",
              "  for (const file of files) {\n",
              "    const li = document.createElement('li');\n",
              "    li.append(span(file.name, {fontWeight: 'bold'}));\n",
              "    li.append(span(\n",
              "        `(${file.type || 'n/a'}) - ${file.size} bytes, ` +\n",
              "        `last modified: ${\n",
              "            file.lastModifiedDate ? file.lastModifiedDate.toLocaleDateString() :\n",
              "                                    'n/a'} - `));\n",
              "    const percent = span('0% done');\n",
              "    li.appendChild(percent);\n",
              "\n",
              "    outputElement.appendChild(li);\n",
              "\n",
              "    const fileDataPromise = new Promise((resolve) => {\n",
              "      const reader = new FileReader();\n",
              "      reader.onload = (e) => {\n",
              "        resolve(e.target.result);\n",
              "      };\n",
              "      reader.readAsArrayBuffer(file);\n",
              "    });\n",
              "    // Wait for the data to be ready.\n",
              "    let fileData = yield {\n",
              "      promise: fileDataPromise,\n",
              "      response: {\n",
              "        action: 'continue',\n",
              "      }\n",
              "    };\n",
              "\n",
              "    // Use a chunked sending to avoid message size limits. See b/62115660.\n",
              "    let position = 0;\n",
              "    do {\n",
              "      const length = Math.min(fileData.byteLength - position, MAX_PAYLOAD_SIZE);\n",
              "      const chunk = new Uint8Array(fileData, position, length);\n",
              "      position += length;\n",
              "\n",
              "      const base64 = btoa(String.fromCharCode.apply(null, chunk));\n",
              "      yield {\n",
              "        response: {\n",
              "          action: 'append',\n",
              "          file: file.name,\n",
              "          data: base64,\n",
              "        },\n",
              "      };\n",
              "\n",
              "      let percentDone = fileData.byteLength === 0 ?\n",
              "          100 :\n",
              "          Math.round((position / fileData.byteLength) * 100);\n",
              "      percent.textContent = `${percentDone}% done`;\n",
              "\n",
              "    } while (position < fileData.byteLength);\n",
              "  }\n",
              "\n",
              "  // All done.\n",
              "  yield {\n",
              "    response: {\n",
              "      action: 'complete',\n",
              "    }\n",
              "  };\n",
              "}\n",
              "\n",
              "scope.google = scope.google || {};\n",
              "scope.google.colab = scope.google.colab || {};\n",
              "scope.google.colab._files = {\n",
              "  _uploadFiles,\n",
              "  _uploadFilesContinue,\n",
              "};\n",
              "})(self);\n",
              "</script> "
            ]
          },
          "metadata": {}
        },
        {
          "output_type": "stream",
          "name": "stdout",
          "text": [
            "Saving anscombes.csv to anscombes (7).csv\n",
            "Dataset I:\n",
            "\n",
            "Mean X: 9.0\n",
            "Median X: 9.0\n",
            "Standard Deviation X: 3.3166247903554\n",
            "Variance X: 11.0\n",
            "\n",
            "Mean Y: 7.500909090909093\n",
            "Median Y: 7.58\n",
            "Standard Deviation Y: 2.031568135925815\n",
            "Variance Y: 4.127269090909091\n",
            "\n",
            "Dataset II:\n",
            "\n",
            "Mean X: 9.0\n",
            "Median X: 9.0\n",
            "Standard Deviation X: 3.3166247903554\n",
            "Variance X: 11.0\n",
            "\n",
            "Mean Y: 7.50090909090909\n",
            "Median Y: 8.14\n",
            "Standard Deviation Y: 2.0316567355016177\n",
            "Variance Y: 4.127629090909091\n",
            "\n",
            "Dataset III:\n",
            "\n",
            "Mean X: 9.0\n",
            "Median X: 9.0\n",
            "Standard Deviation X: 3.3166247903554\n",
            "Variance X: 11.0\n",
            "\n",
            "Mean Y: 7.5\n",
            "Median Y: 7.11\n",
            "Standard Deviation Y: 2.030423601123667\n",
            "Variance Y: 4.12262\n",
            "\n",
            "Dataset IV:\n",
            "\n",
            "Mean X: 9.0\n",
            "Median X: 8.0\n",
            "Standard Deviation X: 3.3166247903554\n",
            "Variance X: 11.0\n",
            "\n",
            "Mean Y: 7.500909090909091\n",
            "Median Y: 7.04\n",
            "Standard Deviation Y: 2.0305785113876023\n",
            "Variance Y: 4.12324909090909\n",
            "\n"
          ]
        }
      ]
    },
    {
      "cell_type": "markdown",
      "source": [
        "#### Exercise 10\n",
        "Read the CSV file named `anscombes.csv` into a pandas DataFrame.\n",
        "\n",
        "Visualize all datasets. Try to set up the 2x2 subplot grid.\n",
        "\n",
        "Hint: `plt.subplots(2, 2, figsize=(10, 8))`\n",
        "https://matplotlib.org/stable/api/_as_gen/matplotlib.pyplot.subplots.html"
      ],
      "metadata": {
        "id": "svZpoXJt_G6j"
      }
    },
    {
      "cell_type": "code",
      "source": [
        "import pandas as pd\n",
        "import matplotlib.pyplot as plt\n",
        "\n",
        "from google.colab import files\n",
        "files.upload()\n",
        "\n",
        "df = pd.read_csv('anscombes.csv')\n",
        "\n",
        "dataset1 = df[df['dataset'] == 'I']\n",
        "dataset2 = df[df['dataset'] == 'II']\n",
        "dataset3 = df[df['dataset'] == 'III']\n",
        "dataset4 = df[df['dataset'] == 'IV']\n",
        "\n",
        "fig,axis = plt.subplots(2, 2, figsize=(10, 8))\n",
        "\n",
        "axis[0,0].scatter(dataset1['x'], dataset1['y'])\n",
        "axis[0,0].set_title('Dataset I')\n",
        "\n",
        "\n",
        "axis[0,1].scatter(dataset2['x'], dataset2['y'])\n",
        "axis[0,1].set_title('Dataset II')\n",
        "\n",
        "axis[1,0].scatter(dataset3['x'], dataset3['y'])\n",
        "axis[1,0].set_title('Dataset III')\n",
        "\n",
        "\n",
        "axis[1,1].scatter(dataset4['x'], dataset4['y'])\n",
        "axis[1,1].set_title('Dataset IV')\n",
        "\n",
        "plt.show()\n",
        "\n",
        "\n"
      ],
      "metadata": {
        "id": "80V3F15k0a1k",
        "colab": {
          "base_uri": "https://localhost:8080/",
          "height": 756
        },
        "outputId": "beab9bfc-030d-44d5-8846-41d3c8aa6d5e"
      },
      "execution_count": 259,
      "outputs": [
        {
          "output_type": "display_data",
          "data": {
            "text/plain": [
              "<IPython.core.display.HTML object>"
            ],
            "text/html": [
              "\n",
              "     <input type=\"file\" id=\"files-b20c96ce-566c-4da3-8a9c-509f2a1b4856\" name=\"files[]\" multiple disabled\n",
              "        style=\"border:none\" />\n",
              "     <output id=\"result-b20c96ce-566c-4da3-8a9c-509f2a1b4856\">\n",
              "      Upload widget is only available when the cell has been executed in the\n",
              "      current browser session. Please rerun this cell to enable.\n",
              "      </output>\n",
              "      <script>// Copyright 2017 Google LLC\n",
              "//\n",
              "// Licensed under the Apache License, Version 2.0 (the \"License\");\n",
              "// you may not use this file except in compliance with the License.\n",
              "// You may obtain a copy of the License at\n",
              "//\n",
              "//      http://www.apache.org/licenses/LICENSE-2.0\n",
              "//\n",
              "// Unless required by applicable law or agreed to in writing, software\n",
              "// distributed under the License is distributed on an \"AS IS\" BASIS,\n",
              "// WITHOUT WARRANTIES OR CONDITIONS OF ANY KIND, either express or implied.\n",
              "// See the License for the specific language governing permissions and\n",
              "// limitations under the License.\n",
              "\n",
              "/**\n",
              " * @fileoverview Helpers for google.colab Python module.\n",
              " */\n",
              "(function(scope) {\n",
              "function span(text, styleAttributes = {}) {\n",
              "  const element = document.createElement('span');\n",
              "  element.textContent = text;\n",
              "  for (const key of Object.keys(styleAttributes)) {\n",
              "    element.style[key] = styleAttributes[key];\n",
              "  }\n",
              "  return element;\n",
              "}\n",
              "\n",
              "// Max number of bytes which will be uploaded at a time.\n",
              "const MAX_PAYLOAD_SIZE = 100 * 1024;\n",
              "\n",
              "function _uploadFiles(inputId, outputId) {\n",
              "  const steps = uploadFilesStep(inputId, outputId);\n",
              "  const outputElement = document.getElementById(outputId);\n",
              "  // Cache steps on the outputElement to make it available for the next call\n",
              "  // to uploadFilesContinue from Python.\n",
              "  outputElement.steps = steps;\n",
              "\n",
              "  return _uploadFilesContinue(outputId);\n",
              "}\n",
              "\n",
              "// This is roughly an async generator (not supported in the browser yet),\n",
              "// where there are multiple asynchronous steps and the Python side is going\n",
              "// to poll for completion of each step.\n",
              "// This uses a Promise to block the python side on completion of each step,\n",
              "// then passes the result of the previous step as the input to the next step.\n",
              "function _uploadFilesContinue(outputId) {\n",
              "  const outputElement = document.getElementById(outputId);\n",
              "  const steps = outputElement.steps;\n",
              "\n",
              "  const next = steps.next(outputElement.lastPromiseValue);\n",
              "  return Promise.resolve(next.value.promise).then((value) => {\n",
              "    // Cache the last promise value to make it available to the next\n",
              "    // step of the generator.\n",
              "    outputElement.lastPromiseValue = value;\n",
              "    return next.value.response;\n",
              "  });\n",
              "}\n",
              "\n",
              "/**\n",
              " * Generator function which is called between each async step of the upload\n",
              " * process.\n",
              " * @param {string} inputId Element ID of the input file picker element.\n",
              " * @param {string} outputId Element ID of the output display.\n",
              " * @return {!Iterable<!Object>} Iterable of next steps.\n",
              " */\n",
              "function* uploadFilesStep(inputId, outputId) {\n",
              "  const inputElement = document.getElementById(inputId);\n",
              "  inputElement.disabled = false;\n",
              "\n",
              "  const outputElement = document.getElementById(outputId);\n",
              "  outputElement.innerHTML = '';\n",
              "\n",
              "  const pickedPromise = new Promise((resolve) => {\n",
              "    inputElement.addEventListener('change', (e) => {\n",
              "      resolve(e.target.files);\n",
              "    });\n",
              "  });\n",
              "\n",
              "  const cancel = document.createElement('button');\n",
              "  inputElement.parentElement.appendChild(cancel);\n",
              "  cancel.textContent = 'Cancel upload';\n",
              "  const cancelPromise = new Promise((resolve) => {\n",
              "    cancel.onclick = () => {\n",
              "      resolve(null);\n",
              "    };\n",
              "  });\n",
              "\n",
              "  // Wait for the user to pick the files.\n",
              "  const files = yield {\n",
              "    promise: Promise.race([pickedPromise, cancelPromise]),\n",
              "    response: {\n",
              "      action: 'starting',\n",
              "    }\n",
              "  };\n",
              "\n",
              "  cancel.remove();\n",
              "\n",
              "  // Disable the input element since further picks are not allowed.\n",
              "  inputElement.disabled = true;\n",
              "\n",
              "  if (!files) {\n",
              "    return {\n",
              "      response: {\n",
              "        action: 'complete',\n",
              "      }\n",
              "    };\n",
              "  }\n",
              "\n",
              "  for (const file of files) {\n",
              "    const li = document.createElement('li');\n",
              "    li.append(span(file.name, {fontWeight: 'bold'}));\n",
              "    li.append(span(\n",
              "        `(${file.type || 'n/a'}) - ${file.size} bytes, ` +\n",
              "        `last modified: ${\n",
              "            file.lastModifiedDate ? file.lastModifiedDate.toLocaleDateString() :\n",
              "                                    'n/a'} - `));\n",
              "    const percent = span('0% done');\n",
              "    li.appendChild(percent);\n",
              "\n",
              "    outputElement.appendChild(li);\n",
              "\n",
              "    const fileDataPromise = new Promise((resolve) => {\n",
              "      const reader = new FileReader();\n",
              "      reader.onload = (e) => {\n",
              "        resolve(e.target.result);\n",
              "      };\n",
              "      reader.readAsArrayBuffer(file);\n",
              "    });\n",
              "    // Wait for the data to be ready.\n",
              "    let fileData = yield {\n",
              "      promise: fileDataPromise,\n",
              "      response: {\n",
              "        action: 'continue',\n",
              "      }\n",
              "    };\n",
              "\n",
              "    // Use a chunked sending to avoid message size limits. See b/62115660.\n",
              "    let position = 0;\n",
              "    do {\n",
              "      const length = Math.min(fileData.byteLength - position, MAX_PAYLOAD_SIZE);\n",
              "      const chunk = new Uint8Array(fileData, position, length);\n",
              "      position += length;\n",
              "\n",
              "      const base64 = btoa(String.fromCharCode.apply(null, chunk));\n",
              "      yield {\n",
              "        response: {\n",
              "          action: 'append',\n",
              "          file: file.name,\n",
              "          data: base64,\n",
              "        },\n",
              "      };\n",
              "\n",
              "      let percentDone = fileData.byteLength === 0 ?\n",
              "          100 :\n",
              "          Math.round((position / fileData.byteLength) * 100);\n",
              "      percent.textContent = `${percentDone}% done`;\n",
              "\n",
              "    } while (position < fileData.byteLength);\n",
              "  }\n",
              "\n",
              "  // All done.\n",
              "  yield {\n",
              "    response: {\n",
              "      action: 'complete',\n",
              "    }\n",
              "  };\n",
              "}\n",
              "\n",
              "scope.google = scope.google || {};\n",
              "scope.google.colab = scope.google.colab || {};\n",
              "scope.google.colab._files = {\n",
              "  _uploadFiles,\n",
              "  _uploadFilesContinue,\n",
              "};\n",
              "})(self);\n",
              "</script> "
            ]
          },
          "metadata": {}
        },
        {
          "output_type": "stream",
          "name": "stdout",
          "text": [
            "Saving anscombes.csv to anscombes (17).csv\n"
          ]
        },
        {
          "output_type": "display_data",
          "data": {
            "text/plain": [
              "<Figure size 1000x800 with 4 Axes>"
            ],
            "image/png": "[encoded data removed]"
          },
          "metadata": {}
        }
      ]
    },
    {
      "cell_type": "markdown",
      "source": [
        "#### Exercise 11\n",
        "What are the conclusions for exercises 8-10?"
      ],
      "metadata": {
        "id": "c0i2GKc3cF7z"
      }
    },
    {
      "cell_type": "markdown",
      "source": [
        "Exercise 8\n",
        "After performing all calculations and getting the graphs of circle and dinosaur, only after I realised the Median, Mean, Standard Deviation and Variance are almost identical, which at first suggest the graphs should look almost identical, while they are drastically different. Raw Statistical data can be misleading and that highlights the importance of graphs\n",
        "\n",
        "\n",
        "\n",
        "Exercise 9 & 10\n",
        "After performing calculations on all four datasets, it is clearly visible that results of mean, median, standard deviation and variance are almost identical which might have suggested that all four datasets will have very similar values and look almost the same on the graphs. However after creation of graphs it turned out they all look different from each other. Something that got my attention is that all four sets have almost the same standard deviation, however looking at the graphs its clearly visible that dataset III and IV have extreme outliners which in theory should increase SD significally.\n",
        "well, again we have prove for popular phrase: Lies, damned lies, and statistics"
      ],
      "metadata": {
        "id": "tKiA8VGWqwS-"
      }
    }
  ]
}